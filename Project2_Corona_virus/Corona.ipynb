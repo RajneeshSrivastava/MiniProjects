{
 "cells": [
  {
   "cell_type": "markdown",
   "metadata": {},
   "source": [
    "# Let's play with a fasta file of your interest\n",
    "\n",
    "### You can download file from NCBI [https://www.ncbi.nlm.nih.gov/nuccore/]"
   ]
  },
  {
   "cell_type": "code",
   "execution_count": null,
   "metadata": {},
   "outputs": [],
   "source": [
    "#https://nbviewer.jupyter.org/\n",
    "fasta = input('Enter your fasta file:')   ## Please mention the path as well !\n",
    "\n",
    "from Bio import SeqIO\n",
    "import numpy as np\n",
    "import seaborn as sns\n",
    "import matplotlib.pyplot as plt\n",
    "%matplotlib inline\n",
    "\n",
    "for Myfasta in SeqIO.parse(fasta, \"fasta\"):\n",
    "    print('You are parsing the fasta file of ' + Myfasta.id)\n",
    "    print(\"Here is a brief description about this file \\n\"+Myfasta.description)\n",
    "    print('The length of this sequence is ' + str(len(Myfasta.seq)))\n",
    "#Myseq = Myseq+str(Myfasta.seq)\n",
    "#else:\n",
    "#print ('Your file is corrupt')\n",
    "#Corona_MT020881_1.fasta\n",
    "base = ['A','T','G','C']\n",
    "base_prop = []\n",
    "for i in base:\n",
    "    i = Myfasta.seq.count(i)\n",
    "    base_prop.append(i/len(Myfasta.seq))\n",
    "sns.set(style=\"darkgrid\")\n",
    "fig=sns.barplot(base[:],base_prop[:])\n",
    "fig.set(xlabel='Nucleotide', ylabel='Percentage')\n",
    "#plt.legend(labels=\"Composition of nucleotide\")\n",
    "plt.title(\"Composition of bases in \"+Myfasta.id) \n",
    "plt.show(fig)\n",
    "print ('Also the %GC content of this sequence is '+ str(\"%.2f\" % (base_prop[2]+base_prop[3])))"
   ]
  },
  {
   "cell_type": "markdown",
   "metadata": {},
   "source": [
    "## Lets explore a bit more..."
   ]
  },
  {
   "cell_type": "markdown",
   "metadata": {},
   "source": [
    "### Questions:\n",
    "*1. How the GC content varies per 1000 base of this genome?*\n",
    "\n",
    "*2. Are there palindromes in this sequence ?*\n",
    "\n",
    "*3. What are the weak sites i.e. could be cleaved by human nucleases?*\n"
   ]
  },
  {
   "cell_type": "code",
   "execution_count": null,
   "metadata": {},
   "outputs": [],
   "source": [
    "#    print ('Also the %GC content of this sequence is '+ str(\"%.2f\" % (base_prop[2]+base_prop[3])))\n",
    "gc_1000=[]\n",
    "for i in range(0,len(Myfasta.seq),1000):\n",
    "    w = Myfasta.seq[i:i+1000]\n",
    "#    c = (w.count('G') + w.count('C'))/len(w)\n",
    "    gc_1000.append ((w.count('G') + w.count('C'))/len(w))\n",
    "sns.set(style=\"darkgrid\")\n",
    "gc_1000bp=sns.scatterplot (range(0,len(gc_1000)), gc_1000,palette=None)\n",
    "gc_1000bp.set(xlabel='Corona virus genome per 1000 bp', ylabel='% GC-content')\n",
    "plt.title(\"Percent GC-content per 1000bp in \"+Myfasta.id) \n",
    "plt.show(gc_1000bp)"
   ]
  },
  {
   "cell_type": "code",
   "execution_count": null,
   "metadata": {},
   "outputs": [],
   "source": [
    "#Identify a substring and its position\n",
    "import re\n",
    "x = \"ATGCTTGACTATGGATATA\"\n",
    "y=str(Myfasta.seq)\n",
    "m= re.search(r\"ATG\", y)\n",
    "print('The 1st start codon is located at '+Myfasta.id+\" genome's sequence pos \"+ str(m.start())+\"-\"+str(m.end()))"
   ]
  },
  {
   "cell_type": "code",
   "execution_count": null,
   "metadata": {},
   "outputs": [],
   "source": [
    "#Identify any substring and its position by typing ATG or AT(A|T|G|C) ##Regular expression\n",
    "import re\n",
    "#x = \"ATGCTTGACTATGGATATA\"\n",
    "y=str(Myfasta.seq)\n",
    "match= re.finditer(str(input('Where is sequence:')), y)\n",
    "for i in match:\n",
    "    print(i.start(),i.end())"
   ]
  },
  {
   "cell_type": "code",
   "execution_count": null,
   "metadata": {},
   "outputs": [],
   "source": []
  },
  {
   "cell_type": "code",
   "execution_count": null,
   "metadata": {},
   "outputs": [],
   "source": [
    "'''\n",
    "i=0\n",
    "while i<len(x):\n",
    "    i=i+1\n",
    "    print (i)\n",
    "'''\n",
    "x = \"ANDMADAMDNA\"\n",
    "#p = []\n",
    "#w = \"\" \n",
    "for i in range(0,len(x)):\n",
    "    a=x[i:i+1]\n",
    "    b=''.join(reversed(x[i:len(x)]))\n",
    "    #if a == b and len(a)>6:\n",
    "    print (a,b)"
   ]
  },
  {
   "cell_type": "code",
   "execution_count": null,
   "metadata": {},
   "outputs": [],
   "source": [
    "\n",
    "\n",
    "'''\n",
    "for i in range(0,len(x)):\n",
    "if re.search(r\"TCAC\", x):\n",
    "    print(\"restriction site found!\")\n",
    "'''\n",
    "\n",
    "\n",
    "#if m: \n",
    " #   print(\"ambiguous base found!\") \n",
    "  #  print(\"at position \" + str(m.start()))\n",
    "\n",
    "#y=''.join(reversed (x))\n",
    "#print(y)\n",
    "'''\n",
    "for i in range(0,len(x)):\n",
    "    for j in range(0,len(x)):\n",
    "        a=x[i:j]\n",
    "        b=''.join(reversed(x[i:j]))\n",
    "#        b=x[i::-1]\n",
    "        if a == b and len(a)>=2:\n",
    "            print(a,b)\n",
    "            '''"
   ]
  },
  {
   "cell_type": "code",
   "execution_count": null,
   "metadata": {},
   "outputs": [],
   "source": [
    "help(re)"
   ]
  },
  {
   "cell_type": "code",
   "execution_count": null,
   "metadata": {},
   "outputs": [],
   "source": [
    "def reverse(s): \n",
    "    return s[::-1] \n",
    "  \n",
    "def isPalindrome(s): \n",
    "    # Calling reverse function \n",
    "    rev = reverse(s) \n",
    "  \n",
    "    # Checking if both string are equal or not \n",
    "    if (s == rev): \n",
    "        return True\n",
    "    return False"
   ]
  }
 ],
 "metadata": {
  "kernelspec": {
   "display_name": "Python 3",
   "language": "python",
   "name": "python3"
  },
  "language_info": {
   "codemirror_mode": {
    "name": "ipython",
    "version": 3
   },
   "file_extension": ".py",
   "mimetype": "text/x-python",
   "name": "python",
   "nbconvert_exporter": "python",
   "pygments_lexer": "ipython3",
   "version": "3.7.4"
  }
 },
 "nbformat": 4,
 "nbformat_minor": 2
}
